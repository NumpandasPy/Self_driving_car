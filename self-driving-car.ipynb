{
 "cells": [
  {
   "cell_type": "markdown",
   "metadata": {},
   "source": ""
  },
  {
   "cell_type": "code",
   "execution_count": null,
   "metadata": {},
   "outputs": [],
   "source": [
    "# Step 1 - Install dependencies\n",
    "\n",
    "#TensorFlow without GPU\n",
    "conda env create -f environments.yml \n",
    "\n",
    "#Use TensorFlow with GPU\n",
    "conda env create -f environments-gpu.yml\n",
    "\n",
    "\n",
    "#Step 2 - Generate Data\n",
    "\n",
    "#Step 3 - Write Training script\n",
    "\n",
    "#Step 4 - Train\n",
    "\n",
    "#Step 5 - Write Testing script\n",
    "\n"
   ]
  }
 ],
 "metadata": {
  "kernelspec": {
   "display_name": "Python 3 (ipykernel)",
   "language": "python",
   "name": "python3"
  },
  "language_info": {
   "codemirror_mode": {
    "name": "ipython",
    "version": 3
   },
   "file_extension": ".py",
   "mimetype": "text/x-python",
   "name": "python",
   "nbconvert_exporter": "python",
   "pygments_lexer": "ipython3",
   "version": "3.10.9"
  },
  "widgets": {
   "state": {},
   "version": "1.1.2"
  }
 },
 "nbformat": 4,
 "nbformat_minor": 4
}
